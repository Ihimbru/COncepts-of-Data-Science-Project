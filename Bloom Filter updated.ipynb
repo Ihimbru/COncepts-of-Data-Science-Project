{
 "cells": [
  {
   "cell_type": "code",
   "execution_count": 1,
   "id": "d769418c",
   "metadata": {},
   "outputs": [],
   "source": [
    "#import all the required packages\n",
    "import hashlib\n",
    "import random\n",
    "import time\n",
    "import matplotlib.pyplot as plt"
   ]
  },
  {
   "cell_type": "code",
   "execution_count": 2,
   "id": "e6655ba2",
   "metadata": {},
   "outputs": [],
   "source": [
    "class BloomFilter:\n",
    "    def __init__(self, size, num_hashes):\n",
    "        \"\"\"Initialize the Bloom filter with a specified size and number of hash functions.\"\"\"\n",
    "        self.size = size  # The size of the bit array\n",
    "        self.num_hashes = num_hashes  # The number of hash functions to use\n",
    "        self.bit_array = [0] * size  # Initialize the bit array with zeros\n",
    "\n",
    "    def _hashes(self, item):\n",
    "        \"\"\"Generate multiple hash values for a given item using double hashing.\"\"\"\n",
    "        hash1 = int(hashlib.md5(str(item).encode()).hexdigest(), 16)\n",
    "        hash2 = int(hashlib.sha256(str(item).encode()).hexdigest(), 16)\n",
    "        for i in range(self.num_hashes):\n",
    "            yield (hash1 + i * hash2) % self.size  # Yield a hash value for each function\n",
    "\n",
    "    def add(self, item):\n",
    "        \"\"\"Add an item to the Bloom filter.\"\"\"\n",
    "        for hash_val in self._hashes(item):\n",
    "            self.bit_array[hash_val] = 1  # Set the bits at the hash values to 1\n",
    "\n",
    "    def contains(self, item):\n",
    "        \"\"\"Check if an item is in the Bloom filter.\"\"\"\n",
    "        return all(self.bit_array[hash_val] for hash_val in self._hashes(item))  # Check all bits are set\n"
   ]
  },
  {
   "cell_type": "code",
   "execution_count": 3,
   "id": "2805acd6",
   "metadata": {},
   "outputs": [],
   "source": [
    "def read_words_from_file(file_path):\n",
    "    \"\"\"Read words from a file, assuming one word per line.\"\"\"\n",
    "    with open(file_path, 'r') as file:\n",
    "        words = [line.strip() for line in file.readlines() if line.strip()]\n",
    "    return words  # Return a list of words"
   ]
  },
  {
   "cell_type": "code",
   "execution_count": 4,
   "id": "4a1c5338",
   "metadata": {},
   "outputs": [],
   "source": [
    "def calculate_false_positive_rate(bf, samples, words):\n",
    "    \"\"\"Calculate the false positive rate of the Bloom filter.\"\"\"\n",
    "    false_positives = 0\n",
    "    tested_samples = 0\n",
    "    while tested_samples < samples:\n",
    "        random_word = ''.join(random.choices('abcdefghijklmnopqrstuvwxyz', k=10))\n",
    "        if random_word not in words:\n",
    "            tested_samples += 1\n",
    "            if bf.contains(random_word):\n",
    "                false_positives += 1\n",
    "    return false_positives / samples  # Return the false positive rate"
   ]
  },
  {
   "cell_type": "code",
   "execution_count": 5,
   "id": "126b3b1e",
   "metadata": {},
   "outputs": [],
   "source": [
    "def measure_performance(bf, words):\n",
    "    \"\"\"Measure the time it takes to add and check items in the Bloom filter.\"\"\"\n",
    "    add_times = []\n",
    "    check_times = []\n",
    "    intervals = range(100, len(words) + 1, 100)\n",
    "    \n",
    "    for i in intervals:\n",
    "        # Measure add time\n",
    "        start_time = time.time()\n",
    "        for word in words[:i]:\n",
    "            bf.add(word)\n",
    "        add_times.append(time.time() - start_time)\n",
    "\n",
    "        # Measure check time\n",
    "        start_time = time.time()\n",
    "        for word in words[:i]:\n",
    "            bf.contains(word)\n",
    "        check_times.append(time.time() - start_time)\n",
    "        \n",
    "    return intervals, add_times, check_times  # Return the times and intervals"
   ]
  },
  {
   "cell_type": "code",
   "execution_count": 6,
   "id": "42f0b06a",
   "metadata": {},
   "outputs": [],
   "source": [
    "# Example of usage\n",
    "file_path = 'sample_words.txt'  # Specify the path to your file\n",
    "words = read_words_from_file(file_path)\n",
    "bloom_filter = BloomFilter(size=10000, num_hashes=5)"
   ]
  },
  {
   "cell_type": "code",
   "execution_count": 7,
   "id": "17874698",
   "metadata": {},
   "outputs": [
    {
     "name": "stdout",
     "output_type": "stream",
     "text": [
      "False Positive Rate: 0.0000%\n"
     ]
    },
    {
     "data": {
      "image/png": "[encoded data removed]",
      "text/plain": [
       "<Figure size 1000x500 with 1 Axes>"
      ]
     },
     "metadata": {},
     "output_type": "display_data"
    }
   ],
   "source": [
    "# Measure and plot performance\n",
    "intervals, add_times, check_times = measure_performance(bloom_filter, words)\n",
    "fpr = calculate_false_positive_rate(bloom_filter, 10000, words)\n",
    "# Print the performance results\n",
    "for interval, add_time, check_time in zip(intervals, add_times, check_times):\n",
    "    print(f\"Processed {interval} items: Add Time = {add_time:.4f}s, Check Time = {check_time:.4f}s\")\n",
    "\n",
    "print(\"False Positive Rate:\", f\"{fpr:.4%}\")\n",
    "# Plotting the results\n",
    "plt.figure(figsize=(10, 5))\n",
    "plt.plot(intervals, add_times, label='Add Time', marker='o')\n",
    "plt.plot(intervals, check_times, label='Check Time', marker='x')\n",
    "plt.xlabel('Number of Items Processed')\n",
    "plt.ylabel('Time (seconds)')\n",
    "plt.title('Performance of Bloom Filter')\n",
    "plt.legend()\n",
    "plt.grid(True)\n",
    "plt.show()"
   ]
  }
 ],
 "metadata": {
  "kernelspec": {
   "display_name": "Python 3 (ipykernel)",
   "language": "python",
   "name": "python3"
  },
  "language_info": {
   "codemirror_mode": {
    "name": "ipython",
    "version": 3
   },
   "file_extension": ".py",
   "mimetype": "text/x-python",
   "name": "python",
   "nbconvert_exporter": "python",
   "pygments_lexer": "ipython3",
   "version": "3.10.11"
  }
 },
 "nbformat": 4,
 "nbformat_minor": 5
}
